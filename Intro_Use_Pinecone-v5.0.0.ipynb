{
 "cells": [
  {
   "cell_type": "code",
   "execution_count": 64,
   "id": "87c63b93",
   "metadata": {
    "scrolled": true
   },
   "outputs": [],
   "source": [
    "#!pip install pinecone-client\n",
    "import os\n",
    "\n",
    "# Leer la variable de entorno\n",
    "variable_name = \"pinecone_api_key_Cordero\"\n",
    "MY_KEY = os.getenv(variable_name)\n"
   ]
  },
  {
   "cell_type": "code",
   "execution_count": 65,
   "id": "8b2765e7",
   "metadata": {
    "scrolled": true
   },
   "outputs": [],
   "source": [
    "from pinecone import Pinecone, ServerlessSpec "
   ]
  },
  {
   "cell_type": "code",
   "execution_count": 66,
   "id": "8f6c66d0",
   "metadata": {
    "scrolled": true
   },
   "outputs": [],
   "source": [
    "pc = Pinecone(api_key = MY_KEY)"
   ]
  },
  {
   "cell_type": "code",
   "execution_count": 67,
   "id": "788717f6",
   "metadata": {},
   "outputs": [
    {
     "data": {
      "text/plain": [
       "{'indexes': []}"
      ]
     },
     "execution_count": 67,
     "metadata": {},
     "output_type": "execute_result"
    }
   ],
   "source": [
    "pc.list_indexes()"
   ]
  },
  {
   "cell_type": "code",
   "execution_count": 70,
   "id": "b8dac7d5",
   "metadata": {},
   "outputs": [],
   "source": [
    "pc.create_index(name=\"insert\", dimension = 3, spec=ServerlessSpec(\n",
    "    cloud=\"aws\",\n",
    "    region=\"us-east-1\"\n",
    ")) # free tier use only us-east-1"
   ]
  },
  {
   "cell_type": "code",
   "execution_count": 31,
   "id": "c6f0ed07",
   "metadata": {},
   "outputs": [
    {
     "data": {
      "text/plain": [
       "{'indexes': [{'deletion_protection': 'disabled',\n",
       "              'dimension': 3,\n",
       "              'host': 'test-92n3tf3.svc.aped-4627-b74a.pinecone.io',\n",
       "              'metric': 'cosine',\n",
       "              'name': 'test',\n",
       "              'spec': {'serverless': {'cloud': 'aws', 'region': 'us-east-1'}},\n",
       "              'status': {'ready': True, 'state': 'Ready'}},\n",
       "             {'deletion_protection': 'disabled',\n",
       "              'dimension': 3,\n",
       "              'host': 'insert-92n3tf3.svc.aped-4627-b74a.pinecone.io',\n",
       "              'metric': 'cosine',\n",
       "              'name': 'insert',\n",
       "              'spec': {'serverless': {'cloud': 'aws', 'region': 'us-east-1'}},\n",
       "              'status': {'ready': True, 'state': 'Ready'}}]}"
      ]
     },
     "execution_count": 31,
     "metadata": {},
     "output_type": "execute_result"
    }
   ],
   "source": [
    "pc.list_indexes()"
   ]
  },
  {
   "cell_type": "code",
   "execution_count": 27,
   "id": "00756c9d",
   "metadata": {},
   "outputs": [],
   "source": [
    "data = [('vec1', [1.0, 2.0, 3.0]),\n",
    "        ('vec2', [11.0, 12.0, 13.0]),\n",
    "        ('vec3', [31.0, 32.0, 33.0])]"
   ]
  },
  {
   "cell_type": "code",
   "execution_count": 46,
   "id": "e1c90c86-d1fb-45ce-8012-1ea969354a91",
   "metadata": {},
   "outputs": [
    {
     "data": {
      "text/plain": [
       "{'upserted_count': 3}"
      ]
     },
     "execution_count": 46,
     "metadata": {},
     "output_type": "execute_result"
    }
   ],
   "source": [
    "# Insert vectors\n",
    "idx = pc.Index(\"insert\")\n",
    "\n",
    "idx.upsert(data)"
   ]
  },
  {
   "cell_type": "code",
   "execution_count": 48,
   "id": "812dc8a8-cd72-4738-96c3-a2538b0cd7a0",
   "metadata": {},
   "outputs": [
    {
     "data": {
      "text/plain": [
       "{'upserted_count': 5}"
      ]
     },
     "execution_count": 48,
     "metadata": {},
     "output_type": "execute_result"
    }
   ],
   "source": [
    "idx.upsert(vectors = [(\"A\", [0.1, 0.1, 0.1]),\n",
    "                      (\"B\", [0.2, 0.2, 0.2]),\n",
    "                      (\"C\", [0.3, 0.3, 0.3]),\n",
    "                      (\"D\", [0.4, 0.4, 0.4]),\n",
    "                      (\"E\", [0.5, 0.5, 0.5])])"
   ]
  },
  {
   "cell_type": "code",
   "execution_count": 50,
   "id": "8cd7d645-32a8-47e7-8a23-ad43cb1b40a7",
   "metadata": {},
   "outputs": [
    {
     "data": {
      "text/plain": [
       "{}"
      ]
     },
     "execution_count": 50,
     "metadata": {},
     "output_type": "execute_result"
    }
   ],
   "source": [
    "#Update vectors\n",
    "idx.update(id=\"E\", values=[0.55, 0.53, 0.5])"
   ]
  },
  {
   "cell_type": "code",
   "execution_count": 52,
   "id": "d78dc486-1ee3-4ebf-b0f1-8f4b74e801fe",
   "metadata": {},
   "outputs": [
    {
     "data": {
      "text/plain": [
       "{'matches': [{'id': 'vec2', 'score': 0.0, 'values': [11.0, 12.0, 13.0]},\n",
       "             {'id': 'vec3', 'score': 0.0, 'values': [31.0, 32.0, 33.0]},\n",
       "             {'id': 'A', 'score': 0.0, 'values': [0.1, 0.1, 0.1]},\n",
       "             {'id': 'B', 'score': 0.0, 'values': [0.2, 0.2, 0.2]},\n",
       "             {'id': 'vec1', 'score': 0.0, 'values': [1.0, 2.0, 3.0]}],\n",
       " 'namespace': '',\n",
       " 'usage': {'read_units': 6}}"
      ]
     },
     "execution_count": 52,
     "metadata": {},
     "output_type": "execute_result"
    }
   ],
   "source": [
    "#Query vector data\n",
    "idx.query(vector = [0, 0 , 0], top_k=5, include_values = True)  # previously vectors could be passed as positional arg, now keyword"
   ]
  },
  {
   "cell_type": "code",
   "execution_count": 53,
   "id": "d8949783-5660-4df4-a946-8da56d489c4c",
   "metadata": {},
   "outputs": [
    {
     "data": {
      "text/plain": [
       "{'namespace': '',\n",
       " 'usage': {'read_units': 1},\n",
       " 'vectors': {'vec1': {'id': 'vec1', 'values': [1.0, 2.0, 3.0]}}}"
      ]
     },
     "execution_count": 53,
     "metadata": {},
     "output_type": "execute_result"
    }
   ],
   "source": [
    "#Fetch vectors by ID\n",
    "idx.fetch(ids=[\"vec1\"])"
   ]
  },
  {
   "cell_type": "code",
   "execution_count": 55,
   "id": "c5330fd6-4adb-4738-b497-95d8510ce02d",
   "metadata": {},
   "outputs": [
    {
     "data": {
      "text/plain": [
       "{}"
      ]
     },
     "execution_count": 55,
     "metadata": {},
     "output_type": "execute_result"
    }
   ],
   "source": [
    "#Delete vectors\n",
    "idx.delete(ids = [\"vec3\"])"
   ]
  },
  {
   "cell_type": "markdown",
   "id": "42d06f76-02ac-4951-a4b6-29e36662319b",
   "metadata": {},
   "source": [
    "#### 1. Create Index"
   ]
  },
  {
   "cell_type": "code",
   "execution_count": 78,
   "id": "6fc94b37-ecfe-43c6-96e2-20b5d8aaf2b4",
   "metadata": {},
   "outputs": [],
   "source": [
    "pc.create_index(name=\"managment\", dimension = 3,\n",
    "                metric = \"dotproduct\",\n",
    "                spec=ServerlessSpec(\n",
    "    cloud=\"aws\",\n",
    "    region=\"us-east-1\"\n",
    ")) # free tier use only us-east-1"
   ]
  },
  {
   "cell_type": "markdown",
   "id": "b2e8f8fe-8a86-4556-af67-87a6df59d2f8",
   "metadata": {},
   "source": [
    "#### 2. Retrieve list of database indexes."
   ]
  },
  {
   "cell_type": "code",
   "execution_count": 79,
   "id": "a537b0a4-ca21-4ed9-8010-2132bc832e3d",
   "metadata": {},
   "outputs": [
    {
     "data": {
      "text/plain": [
       "{'indexes': [{'deletion_protection': 'disabled',\n",
       "              'dimension': 3,\n",
       "              'host': 'test-92n3tf3.svc.aped-4627-b74a.pinecone.io',\n",
       "              'metric': 'cosine',\n",
       "              'name': 'test',\n",
       "              'spec': {'serverless': {'cloud': 'aws', 'region': 'us-east-1'}},\n",
       "              'status': {'ready': True, 'state': 'Ready'}},\n",
       "             {'deletion_protection': 'disabled',\n",
       "              'dimension': 3,\n",
       "              'host': 'managment-92n3tf3.svc.aped-4627-b74a.pinecone.io',\n",
       "              'metric': 'dotproduct',\n",
       "              'name': 'managment',\n",
       "              'spec': {'serverless': {'cloud': 'aws', 'region': 'us-east-1'}},\n",
       "              'status': {'ready': True, 'state': 'Ready'}},\n",
       "             {'deletion_protection': 'disabled',\n",
       "              'dimension': 3,\n",
       "              'host': 'insert-92n3tf3.svc.aped-4627-b74a.pinecone.io',\n",
       "              'metric': 'cosine',\n",
       "              'name': 'insert',\n",
       "              'spec': {'serverless': {'cloud': 'aws', 'region': 'us-east-1'}},\n",
       "              'status': {'ready': True, 'state': 'Ready'}}]}"
      ]
     },
     "execution_count": 79,
     "metadata": {},
     "output_type": "execute_result"
    }
   ],
   "source": [
    "pc.list_indexes()"
   ]
  },
  {
   "cell_type": "markdown",
   "id": "27cd17dc-8652-417b-afdb-e7da17c2203c",
   "metadata": {},
   "source": [
    "#### 3. Connect to a index"
   ]
  },
  {
   "cell_type": "code",
   "execution_count": 80,
   "id": "4179a5d4-6b1c-4942-8f14-abf1a2e628e3",
   "metadata": {},
   "outputs": [
    {
     "data": {
      "text/plain": [
       "{'deletion_protection': 'disabled',\n",
       " 'dimension': 3,\n",
       " 'host': 'managment-92n3tf3.svc.aped-4627-b74a.pinecone.io',\n",
       " 'metric': 'dotproduct',\n",
       " 'name': 'managment',\n",
       " 'spec': {'serverless': {'cloud': 'aws', 'region': 'us-east-1'}},\n",
       " 'status': {'ready': True, 'state': 'Ready'}}"
      ]
     },
     "execution_count": 80,
     "metadata": {},
     "output_type": "execute_result"
    }
   ],
   "source": [
    "pc.describe_index(\"managment\")"
   ]
  },
  {
   "cell_type": "markdown",
   "id": "6f6ed05e-1a68-4f41-b9e7-5f09084fc7e6",
   "metadata": {},
   "source": [
    "#### 4. Describe index"
   ]
  },
  {
   "cell_type": "code",
   "execution_count": 82,
   "id": "02730c9e-0441-4c00-8aab-5c4bcc634b65",
   "metadata": {},
   "outputs": [
    {
     "data": {
      "text/plain": [
       "3"
      ]
     },
     "execution_count": 82,
     "metadata": {},
     "output_type": "execute_result"
    }
   ],
   "source": [
    "description = pc.describe_index('managment')\n",
    "\n",
    "description.dimension\n"
   ]
  },
  {
   "cell_type": "markdown",
   "id": "ba940b9c-8f1b-4819-ad0c-b2e1ea7bbaa9",
   "metadata": {},
   "source": [
    "#### 5. Create Index"
   ]
  },
  {
   "cell_type": "code",
   "execution_count": null,
   "id": "bad37573-6c5c-4c25-a9a0-8bc5d3265d30",
   "metadata": {},
   "outputs": [],
   "source": [
    "pc.delete_index(\"managment\")"
   ]
  },
  {
   "cell_type": "markdown",
   "id": "1b7e23df-9a9d-488e-be1b-1f75b67b534a",
   "metadata": {},
   "source": [
    "## Vector Partition Using Namespace"
   ]
  },
  {
   "cell_type": "code",
   "execution_count": 88,
   "id": "87d515f6-be2f-460e-8b20-e06b1bf1a659",
   "metadata": {},
   "outputs": [
    {
     "data": {
      "image/png": "[encoded data removed]",
      "text/plain": [
       "<Figure size 640x480 with 1 Axes>"
      ]
     },
     "metadata": {},
     "output_type": "display_data"
    }
   ],
   "source": [
    "from PIL import Image\n",
    "import matplotlib.pyplot as plt\n",
    "\n",
    "# Abre la imagen\n",
    "image = Image.open('Images/Partition_vectors.png')\n",
    "\n",
    "# Muestra la imagen usando matplotlib\n",
    "plt.imshow(image)\n",
    "plt.axis('off')  # Opcional: para ocultar los ejes\n",
    "plt.show()"
   ]
  },
  {
   "cell_type": "code",
   "execution_count": 89,
   "id": "36511628-8361-4ce7-990d-e9e7828f8ee8",
   "metadata": {},
   "outputs": [
    {
     "data": {
      "text/plain": [
       "{'upserted_count': 45}"
      ]
     },
     "execution_count": 89,
     "metadata": {},
     "output_type": "execute_result"
    }
   ],
   "source": [
    "# count of emails\n",
    "dimensions = 3 # index dimension\n",
    "\n",
    "emails_with_subject = 20\n",
    "emails_with_body = 45\n",
    "emails_with_other = 45\n",
    "\n",
    "import numpy as np\n",
    "\n",
    "# create vectors, assume embedded\n",
    "# python list of lists\n",
    "vects_subj= np.random.rand(emails_with_subject, dimensions).tolist()\n",
    "vects_body= np.random.rand(emails_with_body, dimensions).tolist() \n",
    "vects_other= np.random.rand(emails_with_other, dimensions).tolist() \n",
    "\n",
    "# create ids for these vectors ,IDs are string\n",
    "\n",
    "ids_subj = map(str, np.arange(emails_with_subject).tolist())\n",
    "ids_body = map(str, np.arange(emails_with_body).tolist())\n",
    "ids_other = map(str, np.arange(emails_with_other).tolist())\n",
    "\n",
    "# zip id and vector\n",
    "vectors_subj = list(zip(ids_subj, vects_subj)) # list of tuples (id, values)\n",
    "vectors_body = list(zip(ids_body, vects_body) )\n",
    "vectors_other = list(zip(ids_other, vects_other))\n",
    "\n",
    "\n",
    "# upsert vectors into index with different namespace\n",
    "\n",
    "idx.upsert(vectors_subj, namespace='subject')\n",
    "idx.upsert(vectors_body, namespace='body')\n",
    "idx.upsert(vectors_other) # default namespace is \"\""
   ]
  },
  {
   "cell_type": "code",
   "execution_count": 91,
   "id": "32f4c265-3249-4d75-95c2-7eb13235599f",
   "metadata": {},
   "outputs": [
    {
     "data": {
      "text/plain": [
       "{'matches': [{'id': '11',\n",
       "              'score': 0.983253062,\n",
       "              'values': [0.725413561, 0.0447233841, 0.910733104]},\n",
       "             {'id': '34',\n",
       "              'score': 0.963501,\n",
       "              'values': [0.723597407, 0.295190156, 0.867681265]},\n",
       "             {'id': '38',\n",
       "              'score': 0.944916,\n",
       "              'values': [0.498129964, 0.34123373, 0.692297041]}],\n",
       " 'namespace': '',\n",
       " 'usage': {'read_units': 6}}"
      ]
     },
     "execution_count": 91,
     "metadata": {},
     "output_type": "execute_result"
    }
   ],
   "source": [
    "idx.query(vector = list(np.random.rand(3)), \n",
    "          top_k=3, \n",
    "          namespace='', \n",
    "          include_values=True)"
   ]
  }
 ],
 "metadata": {
  "kernelspec": {
   "display_name": "Python 3 (ipykernel)",
   "language": "python",
   "name": "python3"
  },
  "language_info": {
   "codemirror_mode": {
    "name": "ipython",
    "version": 3
   },
   "file_extension": ".py",
   "mimetype": "text/x-python",
   "name": "python",
   "nbconvert_exporter": "python",
   "pygments_lexer": "ipython3",
   "version": "3.8.16"
  }
 },
 "nbformat": 4,
 "nbformat_minor": 5
}
