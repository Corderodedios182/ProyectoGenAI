{
 "cells": [
  {
   "cell_type": "code",
   "execution_count": 5,
   "id": "87c63b93",
   "metadata": {
    "scrolled": true
   },
   "outputs": [],
   "source": [
    "#!pip install pinecone-client\n",
    "import os\n",
    "\n",
    "# Leer la variable de entorno\n",
    "variable_name = \"pinecone_api_key_Cordero\"\n",
    "MY_KEY = os.getenv(variable_name)\n"
   ]
  },
  {
   "cell_type": "code",
   "execution_count": 6,
   "id": "8b2765e7",
   "metadata": {
    "scrolled": true
   },
   "outputs": [],
   "source": [
    "from pinecone import Pinecone, ServerlessSpec "
   ]
  },
  {
   "cell_type": "code",
   "execution_count": 7,
   "id": "8f6c66d0",
   "metadata": {
    "scrolled": true
   },
   "outputs": [],
   "source": [
    "pc = Pinecone(api_key = MY_KEY)"
   ]
  },
  {
   "cell_type": "code",
   "execution_count": 8,
   "id": "788717f6",
   "metadata": {},
   "outputs": [
    {
     "data": {
      "text/plain": [
       "{'indexes': [{'deletion_protection': 'disabled',\n",
       "              'dimension': 3,\n",
       "              'host': 'test-92n3tf3.svc.aped-4627-b74a.pinecone.io',\n",
       "              'metric': 'cosine',\n",
       "              'name': 'test',\n",
       "              'spec': {'serverless': {'cloud': 'aws', 'region': 'us-east-1'}},\n",
       "              'status': {'ready': True, 'state': 'Ready'}}]}"
      ]
     },
     "execution_count": 8,
     "metadata": {},
     "output_type": "execute_result"
    }
   ],
   "source": [
    "pc.list_indexes()"
   ]
  },
  {
   "cell_type": "code",
   "execution_count": 9,
   "id": "b8dac7d5",
   "metadata": {},
   "outputs": [],
   "source": [
    "pc.create_index(name=\"test\", \n",
    "               dimension = 3, \n",
    "               spec=ServerlessSpec(\n",
    "        cloud=\"aws\",\n",
    "        region=\"us-east-1\"\n",
    "    )  ) # free tier use only us-east-1"
   ]
  },
  {
   "cell_type": "code",
   "execution_count": 10,
   "id": "c6f0ed07",
   "metadata": {},
   "outputs": [
    {
     "data": {
      "text/plain": [
       "{'indexes': [{'deletion_protection': 'disabled',\n",
       "              'dimension': 3,\n",
       "              'host': 'test-92n3tf3.svc.aped-4627-b74a.pinecone.io',\n",
       "              'metric': 'cosine',\n",
       "              'name': 'test',\n",
       "              'spec': {'serverless': {'cloud': 'aws', 'region': 'us-east-1'}},\n",
       "              'status': {'ready': True, 'state': 'Ready'}}]}"
      ]
     },
     "execution_count": 10,
     "metadata": {},
     "output_type": "execute_result"
    }
   ],
   "source": [
    "pc.list_indexes()"
   ]
  },
  {
   "cell_type": "code",
   "execution_count": null,
   "id": "00756c9d",
   "metadata": {},
   "outputs": [],
   "source": []
  }
 ],
 "metadata": {
  "kernelspec": {
   "display_name": "Python 3 (ipykernel)",
   "language": "python",
   "name": "python3"
  },
  "language_info": {
   "codemirror_mode": {
    "name": "ipython",
    "version": 3
   },
   "file_extension": ".py",
   "mimetype": "text/x-python",
   "name": "python",
   "nbconvert_exporter": "python",
   "pygments_lexer": "ipython3",
   "version": "3.8.16"
  }
 },
 "nbformat": 4,
 "nbformat_minor": 5
}
