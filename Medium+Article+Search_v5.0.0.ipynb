{
 "cells": [
  {
   "cell_type": "markdown",
   "id": "88f36011",
   "metadata": {},
   "source": [
    "# Medium Article Semantic Search by Title+Subtitle"
   ]
  },
  {
   "cell_type": "markdown",
   "id": "4edfecf5",
   "metadata": {},
   "source": [
    "### Load Data"
   ]
  },
  {
   "cell_type": "code",
   "execution_count": 2,
   "id": "9a0599fd",
   "metadata": {},
   "outputs": [],
   "source": [
    "import pandas as pd"
   ]
  },
  {
   "cell_type": "code",
   "execution_count": 42,
   "id": "0dea2982",
   "metadata": {},
   "outputs": [],
   "source": [
    "df = pd.read_csv(\"Data/medium_post_titles.csv\", nrows=10000) # excercise whole data set\n",
    "# data source: https://www.kaggle.com/datasets/nulldata/medium-post-titles"
   ]
  },
  {
   "cell_type": "code",
   "execution_count": 43,
   "id": "f4ce972b",
   "metadata": {},
   "outputs": [
    {
     "data": {
      "text/plain": [
       "False    6318\n",
       "True     3682\n",
       "Name: subtitle_truncated_flag, dtype: int64"
      ]
     },
     "execution_count": 43,
     "metadata": {},
     "output_type": "execute_result"
    }
   ],
   "source": [
    "df[\"subtitle_truncated_flag\"].value_counts()"
   ]
  },
  {
   "cell_type": "markdown",
   "id": "58e061d3",
   "metadata": {},
   "source": [
    "### Data Cleanup"
   ]
  },
  {
   "cell_type": "code",
   "execution_count": 44,
   "id": "df9c3374",
   "metadata": {},
   "outputs": [
    {
     "data": {
      "text/html": [
       "<div>\n",
       "<style scoped>\n",
       "    .dataframe tbody tr th:only-of-type {\n",
       "        vertical-align: middle;\n",
       "    }\n",
       "\n",
       "    .dataframe tbody tr th {\n",
       "        vertical-align: top;\n",
       "    }\n",
       "\n",
       "    .dataframe thead th {\n",
       "        text-align: right;\n",
       "    }\n",
       "</style>\n",
       "<table border=\"1\" class=\"dataframe\">\n",
       "  <thead>\n",
       "    <tr style=\"text-align: right;\">\n",
       "      <th></th>\n",
       "      <th>category</th>\n",
       "      <th>title</th>\n",
       "      <th>subtitle</th>\n",
       "      <th>subtitle_truncated_flag</th>\n",
       "      <th>title_extended</th>\n",
       "    </tr>\n",
       "  </thead>\n",
       "  <tbody>\n",
       "    <tr>\n",
       "      <th>0</th>\n",
       "      <td>work</td>\n",
       "      <td>\"21 Conversations\" - A fun (and easy) game for...</td>\n",
       "      <td>A (new?) Icebreaker game to get your team to s...</td>\n",
       "      <td>False</td>\n",
       "      <td>\"21 Conversations\" - A fun (and easy) game for...</td>\n",
       "    </tr>\n",
       "    <tr>\n",
       "      <th>1</th>\n",
       "      <td>spirituality</td>\n",
       "      <td>\"Biblical Porn\" at Mars Hill</td>\n",
       "      <td>Author and UW lecturer Jessica Johnson talks a...</td>\n",
       "      <td>False</td>\n",
       "      <td>\"Biblical Porn\" at Mars HillAuthor and UW lect...</td>\n",
       "    </tr>\n",
       "    <tr>\n",
       "      <th>2</th>\n",
       "      <td>lgbtqia</td>\n",
       "      <td>\"CISGENDER?! Is That A Disease?!\"</td>\n",
       "      <td>Or, a primer in gender vocabulary for the curi...</td>\n",
       "      <td>False</td>\n",
       "      <td>\"CISGENDER?! Is That A Disease?!\"Or, a primer ...</td>\n",
       "    </tr>\n",
       "    <tr>\n",
       "      <th>4</th>\n",
       "      <td>artificial-intelligence</td>\n",
       "      <td>\"Can I Train my Model on Your Computer?\"</td>\n",
       "      <td>How we waste computational resources and how t...</td>\n",
       "      <td>False</td>\n",
       "      <td>\"Can I Train my Model on Your Computer?\"How we...</td>\n",
       "    </tr>\n",
       "    <tr>\n",
       "      <th>5</th>\n",
       "      <td>cryptocurrency</td>\n",
       "      <td>\"Cypherpunks and Wall Street\": The Security To...</td>\n",
       "      <td>Bruce Fenton presents at the World Blockchain ...</td>\n",
       "      <td>False</td>\n",
       "      <td>\"Cypherpunks and Wall Street\": The Security To...</td>\n",
       "    </tr>\n",
       "  </tbody>\n",
       "</table>\n",
       "</div>"
      ],
      "text/plain": [
       "                  category                                              title  \\\n",
       "0                     work  \"21 Conversations\" - A fun (and easy) game for...   \n",
       "1             spirituality                       \"Biblical Porn\" at Mars Hill   \n",
       "2                  lgbtqia                  \"CISGENDER?! Is That A Disease?!\"   \n",
       "4  artificial-intelligence           \"Can I Train my Model on Your Computer?\"   \n",
       "5           cryptocurrency  \"Cypherpunks and Wall Street\": The Security To...   \n",
       "\n",
       "                                            subtitle  subtitle_truncated_flag  \\\n",
       "0  A (new?) Icebreaker game to get your team to s...                    False   \n",
       "1  Author and UW lecturer Jessica Johnson talks a...                    False   \n",
       "2  Or, a primer in gender vocabulary for the curi...                    False   \n",
       "4  How we waste computational resources and how t...                    False   \n",
       "5  Bruce Fenton presents at the World Blockchain ...                    False   \n",
       "\n",
       "                                      title_extended  \n",
       "0  \"21 Conversations\" - A fun (and easy) game for...  \n",
       "1  \"Biblical Porn\" at Mars HillAuthor and UW lect...  \n",
       "2  \"CISGENDER?! Is That A Disease?!\"Or, a primer ...  \n",
       "4  \"Can I Train my Model on Your Computer?\"How we...  \n",
       "5  \"Cypherpunks and Wall Street\": The Security To...  "
      ]
     },
     "execution_count": 44,
     "metadata": {},
     "output_type": "execute_result"
    }
   ],
   "source": [
    "df = df.dropna()\n",
    "df = df[~df[\"subtitle_truncated_flag\"]]\n",
    "\n",
    "df['title_extended'] = df['title'] + df['subtitle']\n",
    "\n",
    "df.head()"
   ]
  },
  {
   "cell_type": "code",
   "execution_count": 45,
   "id": "ad27cbd5",
   "metadata": {},
   "outputs": [
    {
     "name": "stdout",
     "output_type": "stream",
     "text": [
      "(6211, 5)\n"
     ]
    },
    {
     "data": {
      "text/html": [
       "<div>\n",
       "<style scoped>\n",
       "    .dataframe tbody tr th:only-of-type {\n",
       "        vertical-align: middle;\n",
       "    }\n",
       "\n",
       "    .dataframe tbody tr th {\n",
       "        vertical-align: top;\n",
       "    }\n",
       "\n",
       "    .dataframe thead th {\n",
       "        text-align: right;\n",
       "    }\n",
       "</style>\n",
       "<table border=\"1\" class=\"dataframe\">\n",
       "  <thead>\n",
       "    <tr style=\"text-align: right;\">\n",
       "      <th></th>\n",
       "      <th>category</th>\n",
       "      <th>subtitle_truncated_flag</th>\n",
       "      <th>title</th>\n",
       "      <th>subtitle</th>\n",
       "      <th>title_extended</th>\n",
       "    </tr>\n",
       "  </thead>\n",
       "  <tbody>\n",
       "    <tr>\n",
       "      <th>92</th>\n",
       "      <td>writing</td>\n",
       "      <td>False</td>\n",
       "      <td>292</td>\n",
       "      <td>292</td>\n",
       "      <td>292</td>\n",
       "    </tr>\n",
       "    <tr>\n",
       "      <th>90</th>\n",
       "      <td>work</td>\n",
       "      <td>False</td>\n",
       "      <td>285</td>\n",
       "      <td>285</td>\n",
       "      <td>285</td>\n",
       "    </tr>\n",
       "    <tr>\n",
       "      <th>9</th>\n",
       "      <td>business</td>\n",
       "      <td>False</td>\n",
       "      <td>224</td>\n",
       "      <td>224</td>\n",
       "      <td>224</td>\n",
       "    </tr>\n",
       "    <tr>\n",
       "      <th>24</th>\n",
       "      <td>equality</td>\n",
       "      <td>False</td>\n",
       "      <td>213</td>\n",
       "      <td>213</td>\n",
       "      <td>213</td>\n",
       "    </tr>\n",
       "    <tr>\n",
       "      <th>60</th>\n",
       "      <td>politics</td>\n",
       "      <td>False</td>\n",
       "      <td>212</td>\n",
       "      <td>212</td>\n",
       "      <td>212</td>\n",
       "    </tr>\n",
       "    <tr>\n",
       "      <th>...</th>\n",
       "      <td>...</td>\n",
       "      <td>...</td>\n",
       "      <td>...</td>\n",
       "      <td>...</td>\n",
       "      <td>...</td>\n",
       "    </tr>\n",
       "    <tr>\n",
       "      <th>82</th>\n",
       "      <td>transportation</td>\n",
       "      <td>False</td>\n",
       "      <td>2</td>\n",
       "      <td>2</td>\n",
       "      <td>2</td>\n",
       "    </tr>\n",
       "    <tr>\n",
       "      <th>67</th>\n",
       "      <td>race</td>\n",
       "      <td>False</td>\n",
       "      <td>2</td>\n",
       "      <td>2</td>\n",
       "      <td>2</td>\n",
       "    </tr>\n",
       "    <tr>\n",
       "      <th>65</th>\n",
       "      <td>psychedelics</td>\n",
       "      <td>False</td>\n",
       "      <td>2</td>\n",
       "      <td>2</td>\n",
       "      <td>2</td>\n",
       "    </tr>\n",
       "    <tr>\n",
       "      <th>87</th>\n",
       "      <td>venture-capital</td>\n",
       "      <td>False</td>\n",
       "      <td>1</td>\n",
       "      <td>1</td>\n",
       "      <td>1</td>\n",
       "    </tr>\n",
       "    <tr>\n",
       "      <th>61</th>\n",
       "      <td>privacy</td>\n",
       "      <td>False</td>\n",
       "      <td>1</td>\n",
       "      <td>1</td>\n",
       "      <td>1</td>\n",
       "    </tr>\n",
       "  </tbody>\n",
       "</table>\n",
       "<p>93 rows × 5 columns</p>\n",
       "</div>"
      ],
      "text/plain": [
       "           category  subtitle_truncated_flag  title  subtitle  title_extended\n",
       "92          writing                    False    292       292             292\n",
       "90             work                    False    285       285             285\n",
       "9          business                    False    224       224             224\n",
       "24         equality                    False    213       213             213\n",
       "60         politics                    False    212       212             212\n",
       "..              ...                      ...    ...       ...             ...\n",
       "82   transportation                    False      2         2               2\n",
       "67             race                    False      2         2               2\n",
       "65     psychedelics                    False      2         2               2\n",
       "87  venture-capital                    False      1         1               1\n",
       "61          privacy                    False      1         1               1\n",
       "\n",
       "[93 rows x 5 columns]"
      ]
     },
     "execution_count": 45,
     "metadata": {},
     "output_type": "execute_result"
    }
   ],
   "source": [
    "print(df.shape) # 6k vectors, full set in excercise\n",
    "\n",
    "df.groupby([\"category\",\"subtitle_truncated_flag\"], as_index = False).count().sort_values(\"title\", ascending = False)"
   ]
  },
  {
   "cell_type": "markdown",
   "id": "44a88b1c",
   "metadata": {},
   "source": [
    "### Prep for Upsert"
   ]
  },
  {
   "cell_type": "code",
   "execution_count": 46,
   "id": "28b46a73-4004-4eb1-a8df-2e2c8bc2a0fc",
   "metadata": {},
   "outputs": [],
   "source": [
    "import os\n",
    "\n",
    "variable_name = \"pinecone_api_key_Cordero\"\n",
    "API_KEY = os.getenv(variable_name)"
   ]
  },
  {
   "cell_type": "code",
   "execution_count": 48,
   "id": "76f0793e",
   "metadata": {},
   "outputs": [],
   "source": [
    "# init pinecone\n",
    "from pinecone import Pinecone, ServerlessSpec\n",
    "# API_KEY = \"YOUR API KEY\"\n",
    "pc = Pinecone(api_key = API_KEY)"
   ]
  },
  {
   "cell_type": "code",
   "execution_count": 49,
   "id": "2976d1d4-b792-4573-b705-27d59013815b",
   "metadata": {},
   "outputs": [],
   "source": [
    "pc.create_index(name = \"medium-data\", \n",
    "                dimension=384, \n",
    "                metric=\"cosine\",\n",
    "                spec=ServerlessSpec(\n",
    "                    cloud=\"aws\",\n",
    "                    region=\"us-east-1\"\n",
    "                )) # remember to use only us-east-1 in free tier"
   ]
  },
  {
   "cell_type": "code",
   "execution_count": null,
   "id": "127f78c9",
   "metadata": {},
   "outputs": [],
   "source": [
    "# pinecone.create_index(name='medium-data', dimension=384, pod_type='s1', metric=\"cosine\" )"
   ]
  },
  {
   "cell_type": "code",
   "execution_count": 52,
   "id": "1d8684fd-aa75-4622-8d31-6584d22c294f",
   "metadata": {},
   "outputs": [],
   "source": [
    "#!pip install sentence-transformers"
   ]
  },
  {
   "cell_type": "markdown",
   "id": "bfca9877-8ad2-4c39-ae6a-4e8836143526",
   "metadata": {},
   "source": [
    "The device='cuda' parameter in SentenceTransformer allows the model to run on the GPU for better performance, but you need to ensure that PyTorch detects CUDA correctly.\n",
    "\n",
    "1️⃣ Check if PyTorch detects CUDA\n",
    "\n",
    "Before running the code, make sure your Python environment has PyTorch with CUDA support. You can check this by running:\n",
    "\n",
    "If torch.cuda.is_available() returns False, PyTorch is not using CUDA, and you might need to install the correct version of PyTorch.\n"
   ]
  },
  {
   "cell_type": "code",
   "execution_count": 56,
   "id": "6f50cb7b-fc9e-453f-b0bc-480c0c9443c2",
   "metadata": {},
   "outputs": [
    {
     "name": "stdout",
     "output_type": "stream",
     "text": [
      "True\n",
      "1\n",
      "NVIDIA GeForce RTX 3060 Laptop GPU\n"
     ]
    }
   ],
   "source": [
    "import torch\n",
    "print(torch.cuda.is_available())  # Debe imprimir True si CUDA está disponible\n",
    "print(torch.cuda.device_count())  # Número de GPUs disponibles\n",
    "print(torch.cuda.get_device_name(0))  # Nombre de la GPU\n"
   ]
  },
  {
   "cell_type": "markdown",
   "id": "35af32d0-8fd2-4059-8ee9-5dae5210d401",
   "metadata": {},
   "source": [
    "2️⃣ Install PyTorch with CUDA support\n",
    "If you need to install PyTorch with CUDA support, use this command (adjust according to your CUDA version):"
   ]
  },
  {
   "cell_type": "code",
   "execution_count": 57,
   "id": "686a7a78-9b23-495e-9be5-a11fdd5b73b0",
   "metadata": {},
   "outputs": [
    {
     "name": "stdout",
     "output_type": "stream",
     "text": [
      "^C\n"
     ]
    }
   ],
   "source": [
    "!pip install torch torchvision torchaudio --index-url https://download.pytorch.org/whl/cu118"
   ]
  },
  {
   "cell_type": "markdown",
   "id": "5279f335-e603-4537-bd48-d3ddccd8a589",
   "metadata": {},
   "source": [
    "3️⃣ Configure the SentenceTransformer model\n",
    "If a GPU is available, the model will use CUDA; otherwise, it will use the CPU:"
   ]
  },
  {
   "cell_type": "code",
   "execution_count": null,
   "id": "c60e592b-d9c2-4e6e-a1df-4a3f5fececf4",
   "metadata": {},
   "outputs": [],
   "source": [
    "from sentence_transformers import SentenceTransformer\n",
    "\n",
    "device = \"cuda\" if torch.cuda.is_available() else \"cpu\"\n",
    "model = SentenceTransformer('all-MiniLM-L6-v2', device=device)\n",
    "\n",
    "print(f\"Modelo cargado en {device}.\")\n"
   ]
  },
  {
   "cell_type": "code",
   "execution_count": 10,
   "id": "a144c14a",
   "metadata": {},
   "outputs": [],
   "source": [
    "df['values'] = df['title_extended'].map(\n",
    "    lambda x: (model.encode(x)).tolist()) # python list, 6k rows 1 min"
   ]
  },
  {
   "cell_type": "code",
   "execution_count": 11,
   "id": "6b60a4bd",
   "metadata": {},
   "outputs": [],
   "source": [
    "df['id'] = df.reset_index(drop = 'index').index"
   ]
  },
  {
   "cell_type": "code",
   "execution_count": 12,
   "id": "a31cedb9",
   "metadata": {},
   "outputs": [],
   "source": [
    "df['metadata'] = df.apply(lambda x: {\n",
    "    'title' : x['title'],\n",
    "    'subtitle': x['subtitle'],\n",
    "    'category': x['category']\n",
    "    \n",
    "}, axis=1)"
   ]
  },
  {
   "cell_type": "code",
   "execution_count": 13,
   "id": "43a1f386",
   "metadata": {},
   "outputs": [],
   "source": [
    "df_upsert = df[['id', 'values', 'metadata']]"
   ]
  },
  {
   "cell_type": "code",
   "execution_count": 14,
   "id": "8622d74f",
   "metadata": {},
   "outputs": [
    {
     "name": "stderr",
     "output_type": "stream",
     "text": [
      "C:\\Users\\VENOEN\\AppData\\Local\\Temp\\ipykernel_29176\\3006284790.py:1: SettingWithCopyWarning: \n",
      "A value is trying to be set on a copy of a slice from a DataFrame.\n",
      "Try using .loc[row_indexer,col_indexer] = value instead\n",
      "\n",
      "See the caveats in the documentation: https://pandas.pydata.org/pandas-docs/stable/user_guide/indexing.html#returning-a-view-versus-a-copy\n",
      "  df_upsert['id'] = df_upsert['id'].map(lambda x: str(x))\n"
     ]
    }
   ],
   "source": [
    "df_upsert['id'] = df_upsert['id'].map(lambda x: str(x))"
   ]
  },
  {
   "cell_type": "code",
   "execution_count": 18,
   "id": "a62084db",
   "metadata": {},
   "outputs": [],
   "source": [
    "index =pc.Index('medium-data')"
   ]
  },
  {
   "cell_type": "code",
   "execution_count": 19,
   "id": "0fbaced0",
   "metadata": {},
   "outputs": [
    {
     "name": "stderr",
     "output_type": "stream",
     "text": [
      "sending upsert requests: 100%|████████████████████████████████████████████████████| 6211/6211 [00:20<00:00, 305.21it/s]\n"
     ]
    },
    {
     "data": {
      "text/plain": [
       "{'upserted_count': 6211}"
      ]
     },
     "execution_count": 19,
     "metadata": {},
     "output_type": "execute_result"
    }
   ],
   "source": [
    "index.upsert_from_dataframe(df_upsert) # 6k takes 1 min"
   ]
  },
  {
   "cell_type": "markdown",
   "id": "1cd3dc80",
   "metadata": {},
   "source": [
    "### Query"
   ]
  },
  {
   "cell_type": "code",
   "execution_count": 26,
   "id": "3093b83b",
   "metadata": {},
   "outputs": [],
   "source": [
    "xc = index.query(vector=(model.encode(\"which city is the most beautiful\")).tolist(), # python list\n",
    "           top_k=10,\n",
    "           include_metadata=True) "
   ]
  },
  {
   "cell_type": "code",
   "execution_count": 27,
   "id": "f95b88ba",
   "metadata": {},
   "outputs": [
    {
     "name": "stdout",
     "output_type": "stream",
     "text": [
      "0.57: 3 Places Where You Can Find Beauty: photography \n",
      "0.46: 6 Easy Reasons to Enjoy Exploring South Wales: travel \n",
      "0.45: A City That’s Better for the Blind Is Better for Everyone: accessibility \n",
      "0.45: A Shining City on a Hill: politics \n",
      "0.42: A Most Beautiful Game: sports \n",
      "0.4: 6 Literary Cities for Book Lovers To Visit This Year: travel \n",
      "0.4: Ace Hotel: A UX Case Study: ux \n",
      "0.39: A city and its architecture: cities \n",
      "0.39: Adaptive urban design: design \n",
      "0.38: Aesthetics of Being: spirituality \n"
     ]
    }
   ],
   "source": [
    "for result in xc['matches']:\n",
    "    print(f\"{round(result['score'], 2)}: {result['metadata']['title']}: {result['metadata']['category']} \")"
   ]
  },
  {
   "cell_type": "code",
   "execution_count": 28,
   "id": "9c6b8ad9",
   "metadata": {},
   "outputs": [
    {
     "name": "stdout",
     "output_type": "stream",
     "text": [
      "0.57: If you are willing to look hard enough, eventually you will see beauty in the most difficult of places.: photography \n",
      "0.46: Pembrokeshire is as beautiful as the Italian Coast.: travel \n",
      "0.45: Complete parity with the sighted may seem like an impossible goal, but maybe the only thing holding us back is a lack of imagination.: accessibility \n",
      "0.45: What does America stand for?: politics \n",
      "0.42: The World Cup gets advertising right: sports \n",
      "0.4: Combine your love for books and travel with these 6 literary cities.: travel \n",
      "0.4: Discover the city you are visting like a local: ux \n",
      "0.39: Bangalore Chapter: cities \n",
      "0.39: Choatic nature of order: design \n",
      "0.38: Examining life through a lens of beauty: spirituality \n"
     ]
    }
   ],
   "source": [
    "for result in xc['matches']:\n",
    "    print(f\"{round(result['score'], 2)}: {result['metadata']['subtitle']}: {result['metadata']['category']} \")"
   ]
  },
  {
   "cell_type": "markdown",
   "id": "5d4853ea",
   "metadata": {},
   "source": [
    "### Excercise: Upsert all data"
   ]
  },
  {
   "cell_type": "code",
   "execution_count": null,
   "id": "37156a84",
   "metadata": {},
   "outputs": [],
   "source": []
  }
 ],
 "metadata": {
  "kernelspec": {
   "display_name": "Python 3 (ipykernel)",
   "language": "python",
   "name": "python3"
  },
  "language_info": {
   "codemirror_mode": {
    "name": "ipython",
    "version": 3
   },
   "file_extension": ".py",
   "mimetype": "text/x-python",
   "name": "python",
   "nbconvert_exporter": "python",
   "pygments_lexer": "ipython3",
   "version": "3.8.16"
  }
 },
 "nbformat": 4,
 "nbformat_minor": 5
}
